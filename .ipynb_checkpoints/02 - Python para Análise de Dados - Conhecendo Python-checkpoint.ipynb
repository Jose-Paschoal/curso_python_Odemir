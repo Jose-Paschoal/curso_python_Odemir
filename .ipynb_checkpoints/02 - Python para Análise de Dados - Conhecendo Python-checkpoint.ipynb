{
 "cells": [
  {
   "cell_type": "markdown",
   "metadata": {},
   "source": [
    "# Estruturas de Repetição"
   ]
  },
  {
   "cell_type": "markdown",
   "metadata": {},
   "source": [
    "### Condição IF"
   ]
  },
  {
   "cell_type": "code",
   "execution_count": 1,
   "metadata": {},
   "outputs": [
    {
     "name": "stdout",
     "output_type": "stream",
     "text": [
      "vc é maior de idade!\n"
     ]
    }
   ],
   "source": [
    "idade = 18\n",
    "\n",
    "if idade >= 18:\n",
    "    print('vc é maior de idade!')"
   ]
  },
  {
   "cell_type": "code",
   "execution_count": 2,
   "metadata": {},
   "outputs": [
    {
     "name": "stdout",
     "output_type": "stream",
     "text": [
      "vc é menor de idade.\n"
     ]
    }
   ],
   "source": [
    "idade = 12\n",
    "\n",
    "if idade >= 18:\n",
    "    print('vc é maior de idade!')\n",
    "    \n",
    "else:\n",
    "    print('vc é menor de idade.')"
   ]
  },
  {
   "cell_type": "markdown",
   "metadata": {},
   "source": [
    "## Loop FOR"
   ]
  },
  {
   "cell_type": "code",
   "execution_count": 3,
   "metadata": {},
   "outputs": [
    {
     "name": "stdout",
     "output_type": "stream",
     "text": [
      "0\n",
      "1\n",
      "2\n",
      "3\n",
      "4\n",
      "5\n",
      "6\n",
      "7\n",
      "8\n",
      "9\n"
     ]
    }
   ],
   "source": [
    "for qualquer in range(10):\n",
    "    print(qualquer)"
   ]
  },
  {
   "cell_type": "code",
   "execution_count": 4,
   "metadata": {},
   "outputs": [
    {
     "name": "stdout",
     "output_type": "stream",
     "text": [
      "1\n",
      "2\n",
      "3\n",
      "4\n",
      "5\n",
      "6\n",
      "7\n",
      "8\n",
      "9\n",
      "10\n"
     ]
    }
   ],
   "source": [
    "for qualquer in range(1,11):\n",
    "    print(qualquer)"
   ]
  },
  {
   "cell_type": "code",
   "execution_count": 5,
   "metadata": {},
   "outputs": [
    {
     "name": "stdout",
     "output_type": "stream",
     "text": [
      "BRASIL\n",
      "ARGENTINA\n",
      "URUGUAI\n",
      "PARAGUAI\n"
     ]
    }
   ],
   "source": [
    "lista = ['brasil', 'argentina', 'uruguai', 'paraguai']\n",
    "\n",
    "for qualquer in lista:\n",
    "    print(qualquer.upper())"
   ]
  },
  {
   "cell_type": "code",
   "execution_count": 6,
   "metadata": {},
   "outputs": [
    {
     "name": "stdout",
     "output_type": "stream",
     "text": [
      "uruguai é bicampeão da copa do mundo\n"
     ]
    }
   ],
   "source": [
    "lista = ['brasil', 'argentina', 'uruguai', 'paraguai']\n",
    "\n",
    "for pais in lista:\n",
    "    \n",
    "    if pais == 'uruguai':\n",
    "        print(pais, 'é bicampeão da copa do mundo')"
   ]
  },
  {
   "cell_type": "code",
   "execution_count": 7,
   "metadata": {},
   "outputs": [
    {
     "name": "stdout",
     "output_type": "stream",
     "text": [
      "brasil\n",
      "argentina\n",
      "uruguai\n",
      "paraguai\n"
     ]
    }
   ],
   "source": [
    "for Loop in range(len(lista)):\n",
    "    print(lista[Loop])"
   ]
  },
  {
   "cell_type": "code",
   "execution_count": 8,
   "metadata": {},
   "outputs": [
    {
     "name": "stdout",
     "output_type": "stream",
     "text": [
      "0 brasil\n",
      "1 argentina\n",
      "2 uruguai\n",
      "3 paraguai\n"
     ]
    }
   ],
   "source": [
    "for Index, pais in enumerate(lista):\n",
    "    print(Index, pais)"
   ]
  },
  {
   "cell_type": "markdown",
   "metadata": {},
   "source": [
    "## Loop WHILE"
   ]
  },
  {
   "cell_type": "code",
   "execution_count": 9,
   "metadata": {},
   "outputs": [
    {
     "name": "stdout",
     "output_type": "stream",
     "text": [
      "0\n",
      "1\n",
      "2\n",
      "3\n",
      "4\n",
      "5\n",
      "6\n",
      "7\n",
      "8\n",
      "9\n",
      "10\n"
     ]
    }
   ],
   "source": [
    "parar = 0\n",
    "\n",
    "while parar <= 10:\n",
    "    print(parar)\n",
    "    parar +=1"
   ]
  },
  {
   "cell_type": "code",
   "execution_count": 10,
   "metadata": {},
   "outputs": [
    {
     "name": "stdout",
     "output_type": "stream",
     "text": [
      "0\n",
      "1\n",
      "2\n",
      "3\n",
      "4\n",
      "5\n",
      "0\n",
      "1\n",
      "2\n",
      "3\n",
      "4\n",
      "5\n",
      "6\n",
      "7\n",
      "8\n",
      "9\n",
      "6\n",
      "7\n",
      "8\n",
      "9\n",
      "10\n"
     ]
    }
   ],
   "source": [
    "loop = 0\n",
    "\n",
    "while loop <= 10:\n",
    "    print(loop)\n",
    "    \n",
    "    if loop == 5:\n",
    "        for x in range(10):\n",
    "            print(x)\n",
    "            \n",
    "    loop +=1\n",
    "    "
   ]
  },
  {
   "cell_type": "code",
   "execution_count": 12,
   "metadata": {},
   "outputs": [],
   "source": [
    "import random"
   ]
  },
  {
   "cell_type": "code",
   "execution_count": 13,
   "metadata": {},
   "outputs": [
    {
     "name": "stdout",
     "output_type": "stream",
     "text": [
      "eu tirei o valor 1\n",
      "vcs tiraram o  9\n",
      "\n",
      "\n",
      "eu tirei o valor 8\n",
      "vcs tiraram o  2\n",
      "ganhei!!\n"
     ]
    }
   ],
   "source": [
    "## joguinho\n",
    "\n",
    "while True:\n",
    "    eu = random.randint(0,10)\n",
    "    contra = random.randint(0,10)\n",
    "    \n",
    "    print('eu tirei o valor', eu)\n",
    "    print('vcs tiraram o ', contra)\n",
    "    \n",
    "    if eu > contra:\n",
    "        print('ganhei!!')\n",
    "        break\n",
    "        \n",
    "    print('\\n')\n",
    "        \n",
    "    "
   ]
  },
  {
   "cell_type": "markdown",
   "metadata": {},
   "source": [
    "### Estrutura de Quebra BREAK e CONTINUE"
   ]
  },
  {
   "cell_type": "code",
   "execution_count": 15,
   "metadata": {},
   "outputs": [
    {
     "name": "stdout",
     "output_type": "stream",
     "text": [
      "morango\n",
      "pera\n",
      "uva\n"
     ]
    }
   ],
   "source": [
    "lista = ['morango', 'pera', 'uva', 'abacaxi']\n",
    "\n",
    "for fruta in lista:\n",
    "    \n",
    "    print(fruta)\n",
    "    \n",
    "    if fruta == 'uva':\n",
    "        break\n",
    "    "
   ]
  },
  {
   "cell_type": "code",
   "execution_count": 16,
   "metadata": {},
   "outputs": [
    {
     "name": "stdout",
     "output_type": "stream",
     "text": [
      "0\n",
      "1\n",
      "2\n",
      "3\n",
      "4\n",
      "6\n",
      "7\n",
      "8\n",
      "9\n",
      "10\n"
     ]
    }
   ],
   "source": [
    "for loop in range(0,11):\n",
    "    \n",
    "    if loop == 5:\n",
    "        continue\n",
    "        print('cheguei aqui mas vou ser ignorado')\n",
    "    \n",
    "    \n",
    "    print(loop)"
   ]
  },
  {
   "cell_type": "markdown",
   "metadata": {},
   "source": [
    "### Estrutura de FUNÇÕES"
   ]
  },
  {
   "cell_type": "code",
   "execution_count": 18,
   "metadata": {},
   "outputs": [],
   "source": [
    "def BOAS_VINDAS():\n",
    "    print('python')"
   ]
  },
  {
   "cell_type": "code",
   "execution_count": 20,
   "metadata": {},
   "outputs": [
    {
     "name": "stdout",
     "output_type": "stream",
     "text": [
      "python\n"
     ]
    }
   ],
   "source": [
    "BOAS_VINDAS()"
   ]
  },
  {
   "cell_type": "code",
   "execution_count": 21,
   "metadata": {},
   "outputs": [],
   "source": [
    "# soma\n",
    "\n",
    "def somar(valor1, valor2):\n",
    "    soma = valor1 + valor2\n",
    "    print(soma)"
   ]
  },
  {
   "cell_type": "code",
   "execution_count": 23,
   "metadata": {},
   "outputs": [
    {
     "name": "stdout",
     "output_type": "stream",
     "text": [
      "12\n"
     ]
    }
   ],
   "source": [
    "somar(10,2)"
   ]
  },
  {
   "cell_type": "code",
   "execution_count": 25,
   "metadata": {},
   "outputs": [
    {
     "name": "stdout",
     "output_type": "stream",
     "text": [
      "0.7213043773524164\n",
      "1.1524102607265767\n",
      "0.2815141632700944\n",
      "1.0336312115551571\n",
      "1.8533763929673386\n",
      "0.23860501991794536\n",
      "0.36079258522140567\n",
      "1.3878862965600887\n",
      "0.4522127320465207\n",
      "0.7328739445497442\n"
     ]
    }
   ],
   "source": [
    "for loop in range (0,10):\n",
    "    \n",
    "    import random\n",
    "    \n",
    "    x = random.random()\n",
    "    y = random.random()\n",
    "    \n",
    "    somar(x,y)"
   ]
  },
  {
   "cell_type": "markdown",
   "metadata": {},
   "source": [
    "### Função LAMBDA"
   ]
  },
  {
   "cell_type": "code",
   "execution_count": 26,
   "metadata": {},
   "outputs": [],
   "source": [
    "funcao = lambda valor: valor + 10"
   ]
  },
  {
   "cell_type": "code",
   "execution_count": 27,
   "metadata": {},
   "outputs": [
    {
     "data": {
      "text/plain": [
       "11"
      ]
     },
     "execution_count": 27,
     "metadata": {},
     "output_type": "execute_result"
    }
   ],
   "source": [
    "funcao(1)"
   ]
  },
  {
   "cell_type": "code",
   "execution_count": 28,
   "metadata": {},
   "outputs": [],
   "source": [
    "funcao2 = lambda valor1, valor2 : valor1 + valor2"
   ]
  },
  {
   "cell_type": "code",
   "execution_count": 29,
   "metadata": {},
   "outputs": [
    {
     "data": {
      "text/plain": [
       "20"
      ]
     },
     "execution_count": 29,
     "metadata": {},
     "output_type": "execute_result"
    }
   ],
   "source": [
    "funcao2(10,10)"
   ]
  },
  {
   "cell_type": "markdown",
   "metadata": {},
   "source": [
    "### Estrutura TRY"
   ]
  },
  {
   "cell_type": "code",
   "execution_count": 32,
   "metadata": {},
   "outputs": [
    {
     "name": "stdout",
     "output_type": "stream",
     "text": [
      "nao deu certo\n",
      "vou ser executado da mesma forma\n"
     ]
    }
   ],
   "source": [
    "try:\n",
    "    0/0\n",
    "    \n",
    "except:\n",
    "    print('nao deu certo')\n",
    "    \n",
    "finally:\n",
    "    print('vou ser executado da mesma forma')"
   ]
  },
  {
   "cell_type": "markdown",
   "metadata": {},
   "source": [
    "### Estrutura de Classes/Objeto"
   ]
  },
  {
   "cell_type": "code",
   "execution_count": 35,
   "metadata": {},
   "outputs": [],
   "source": [
    "class Pessoa:\n",
    "    \n",
    "    # método construtor\n",
    "    \n",
    "    def __init__(self, nome, idade):\n",
    "        self.nome = nome\n",
    "        self.idade = idade\n",
    "        \n",
    "    def boas_vindas(self):\n",
    "        print('olá seja bem vindo: ', self.nome)\n",
    "        \n",
    "    def recuado(self):\n",
    "        print('seu acesso foi recusado')\n",
    "        \n",
    "    # função\n",
    "    \n",
    "    def maior_idade(self):\n",
    "        if self.idade >= 18:\n",
    "            print('usuário é maior de idade')\n",
    "            self.boas_vindas()\n",
    "        else:\n",
    "            print('usuário é menor de idade')\n",
    "            self.recusado()\n",
    "        \n",
    "    "
   ]
  },
  {
   "cell_type": "code",
   "execution_count": 36,
   "metadata": {},
   "outputs": [],
   "source": [
    "dados = Pessoa('Paschoal', 38)"
   ]
  },
  {
   "cell_type": "code",
   "execution_count": 38,
   "metadata": {},
   "outputs": [
    {
     "name": "stdout",
     "output_type": "stream",
     "text": [
      "usuário é maior de idade\n",
      "olá seja bem vindo:  Paschoal\n"
     ]
    }
   ],
   "source": [
    "dados.maior_idade()"
   ]
  },
  {
   "cell_type": "code",
   "execution_count": 39,
   "metadata": {},
   "outputs": [
    {
     "name": "stdout",
     "output_type": "stream",
     "text": [
      "Collecting django\n",
      "  Downloading Django-4.0.5-py3-none-any.whl (8.0 MB)\n",
      "Collecting sqlparse>=0.2.2\n",
      "  Downloading sqlparse-0.4.2-py3-none-any.whl (42 kB)\n",
      "Collecting asgiref<4,>=3.4.1\n",
      "  Downloading asgiref-3.5.2-py3-none-any.whl (22 kB)\n",
      "Collecting tzdata\n",
      "  Downloading tzdata-2022.1-py2.py3-none-any.whl (339 kB)\n",
      "Collecting backports.zoneinfo\n",
      "  Downloading backports.zoneinfo-0.2.1-cp38-cp38-win_amd64.whl (38 kB)\n",
      "Installing collected packages: tzdata, sqlparse, backports.zoneinfo, asgiref, django\n",
      "Successfully installed asgiref-3.5.2 backports.zoneinfo-0.2.1 django-4.0.5 sqlparse-0.4.2 tzdata-2022.1\n"
     ]
    },
    {
     "name": "stderr",
     "output_type": "stream",
     "text": [
      "WARNING: You are using pip version 21.3.1; however, version 22.1.2 is available.\n",
      "You should consider upgrading via the 'c:\\users\\pasch\\anaconda3\\python.exe -m pip install --upgrade pip' command.\n"
     ]
    }
   ],
   "source": [
    "!pip install django"
   ]
  },
  {
   "cell_type": "code",
   "execution_count": null,
   "metadata": {},
   "outputs": [],
   "source": []
  }
 ],
 "metadata": {
  "kernelspec": {
   "display_name": "Python 3",
   "language": "python",
   "name": "python3"
  },
  "language_info": {
   "codemirror_mode": {
    "name": "ipython",
    "version": 3
   },
   "file_extension": ".py",
   "mimetype": "text/x-python",
   "name": "python",
   "nbconvert_exporter": "python",
   "pygments_lexer": "ipython3",
   "version": "3.8.5"
  }
 },
 "nbformat": 4,
 "nbformat_minor": 4
}
